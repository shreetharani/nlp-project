{
 "cells": [
  {
   "cell_type": "markdown",
   "id": "118cec97",
   "metadata": {},
   "source": [
    "# This Notebook Perform two things...........\n",
    "\n",
    "# 1 Section:                                                                 \n",
    "Research Area Subject Area Prediction (Large Scale classification) using shallow Multi-Layer Perceptron (MLP) model\n",
    "\n",
    "# 2 Section:\n",
    "Research Paper Recommendation for reading: using sentence transformer model\n",
    "\n",
    "Research Papers dataset link::\n",
    "https://www.kaggle.com/datasets/spsayakpaul/arxiv-paper-abstracts/data\n"
   ]
  },
  {
   "cell_type": "markdown",
   "id": "2b7cb120",
   "metadata": {},
   "source": [
    "# 1 Section:                                                                 "
   ]
  },
  {
   "cell_type": "markdown",
   "id": "5adda69d",
   "metadata": {},
   "source": [
    "# Loading tools and dataset"
   ]
  },
  {
   "cell_type": "code",
   "execution_count": 42,
   "id": "a0cb9160",
   "metadata": {},
   "outputs": [],
   "source": [
    "from tensorflow.keras import layers\n",
    "from tensorflow import keras\n",
    "import tensorflow as tf\n",
    "\n",
    "from sklearn.model_selection import train_test_split\n",
    "\n",
    "from ast import literal_eval\n",
    "# is used for safely evaluating strings containing Python literals or container displays\n",
    "# (e.g., lists, dictionaries) to their corresponding Python objects.\n",
    "\n",
    "import matplotlib.pyplot as plt\n",
    "import pandas as pd\n",
    "import numpy as np"
   ]
  },
  {
   "cell_type": "code",
   "execution_count": 43,
   "id": "130dc39f",
   "metadata": {},
   "outputs": [],
   "source": [
    "arxiv_data = pd.read_csv(\"arxiv_data_210930-054931.csv\")"
   ]
  },
  {
   "cell_type": "code",
   "execution_count": 44,
   "id": "6a912841",
   "metadata": {},
   "outputs": [
    {
     "data": {
      "text/html": [
       "<div>\n",
       "<style scoped>\n",
       "    .dataframe tbody tr th:only-of-type {\n",
       "        vertical-align: middle;\n",
       "    }\n",
       "\n",
       "    .dataframe tbody tr th {\n",
       "        vertical-align: top;\n",
       "    }\n",
       "\n",
       "    .dataframe thead th {\n",
       "        text-align: right;\n",
       "    }\n",
       "</style>\n",
       "<table border=\"1\" class=\"dataframe\">\n",
       "  <thead>\n",
       "    <tr style=\"text-align: right;\">\n",
       "      <th></th>\n",
       "      <th>terms</th>\n",
       "      <th>titles</th>\n",
       "      <th>abstracts</th>\n",
       "    </tr>\n",
       "  </thead>\n",
       "  <tbody>\n",
       "    <tr>\n",
       "      <th>0</th>\n",
       "      <td>['cs.LG']</td>\n",
       "      <td>Multi-Level Attention Pooling for Graph Neural Networks: Unifying Graph Representations with Multiple Localities</td>\n",
       "      <td>Graph neural networks (GNNs) have been widely used to learn vector\\nrepresentation of graph-structured data and achieved better task performance\\nthan conventional methods. The foundation of GNNs is the message passing\\nprocedure, which propagates the information in a node to its neighbors. Since\\nthis procedure proceeds one step per layer, the range of the information\\npropagation among nodes is small in the lower layers, and it expands toward the\\nhigher layers. Therefore, a GNN model has to be deep enough to capture global\\nstructural information in a graph. On the other hand, it is known that deep GNN\\nmodels suffer from performance degradation because they lose nodes' local\\ninformation, which would be essential for good model performance, through many\\nmessage passing steps. In this study, we propose multi-level attention pooling\\n(MLAP) for graph-level classification tasks, which can adapt to both local and\\nglobal structural information in a graph. It has an attention pooling layer for\\neach message passing step and computes the final graph representation by\\nunifying the layer-wise graph representations. The MLAP architecture allows\\nmodels to utilize the structural information of graphs with multiple levels of\\nlocalities because it preserves layer-wise information before losing them due\\nto oversmoothing. Results of our experiments show that the MLAP architecture\\nimproves the graph classification performance compared to the baseline\\narchitectures. In addition, analyses on the layer-wise graph representations\\nsuggest that aggregating information from multiple levels of localities indeed\\nhas the potential to improve the discriminability of learned graph\\nrepresentations.</td>\n",
       "    </tr>\n",
       "    <tr>\n",
       "      <th>1</th>\n",
       "      <td>['cs.LG', 'cs.AI']</td>\n",
       "      <td>Decision Forests vs. Deep Networks: Conceptual Similarities and Empirical Differences at Small Sample Sizes</td>\n",
       "      <td>Deep networks and decision forests (such as random forests and gradient\\nboosted trees) are the leading machine learning methods for structured and\\ntabular data, respectively. Many papers have empirically compared large numbers\\nof classifiers on one or two different domains (e.g., on 100 different tabular\\ndata settings). However, a careful conceptual and empirical comparison of these\\ntwo strategies using the most contemporary best practices has yet to be\\nperformed. Conceptually, we illustrate that both can be profitably viewed as\\n\"partition and vote\" schemes. Specifically, the representation space that they\\nboth learn is a partitioning of feature space into a union of convex polytopes.\\nFor inference, each decides on the basis of votes from the activated nodes.\\nThis formulation allows for a unified basic understanding of the relationship\\nbetween these methods. Empirically, we compare these two strategies on hundreds\\nof tabular data settings, as well as several vision and auditory settings. Our\\nfocus is on datasets with at most 10,000 samples, which represent a large\\nfraction of scientific and biomedical datasets. In general, we found forests to\\nexcel at tabular and structured data (vision and audition) with small sample\\nsizes, whereas deep nets performed better on structured data with larger sample\\nsizes. This suggests that further gains in both scenarios may be realized via\\nfurther combining aspects of forests and networks. We will continue revising\\nthis technical report in the coming months with updated results.</td>\n",
       "    </tr>\n",
       "    <tr>\n",
       "      <th>2</th>\n",
       "      <td>['cs.LG', 'cs.CR', 'stat.ML']</td>\n",
       "      <td>Power up! Robust Graph Convolutional Network via Graph Powering</td>\n",
       "      <td>Graph convolutional networks (GCNs) are powerful tools for graph-structured\\ndata. However, they have been recently shown to be vulnerable to topological\\nattacks. To enhance adversarial robustness, we go beyond spectral graph theory\\nto robust graph theory. By challenging the classical graph Laplacian, we\\npropose a new convolution operator that is provably robust in the spectral\\ndomain and is incorporated in the GCN architecture to improve expressivity and\\ninterpretability. By extending the original graph to a sequence of graphs, we\\nalso propose a robust training paradigm that encourages transferability across\\ngraphs that span a range of spatial and spectral characteristics. The proposed\\napproaches are demonstrated in extensive experiments to simultaneously improve\\nperformance in both benign and adversarial situations.</td>\n",
       "    </tr>\n",
       "    <tr>\n",
       "      <th>3</th>\n",
       "      <td>['cs.LG', 'cs.CR']</td>\n",
       "      <td>Releasing Graph Neural Networks with Differential Privacy Guarantees</td>\n",
       "      <td>With the increasing popularity of Graph Neural Networks (GNNs) in several\\nsensitive applications like healthcare and medicine, concerns have been raised\\nover the privacy aspects of trained GNNs. More notably, GNNs are vulnerable to\\nprivacy attacks, such as membership inference attacks, even if only blackbox\\naccess to the trained model is granted. To build defenses, differential privacy\\nhas emerged as a mechanism to disguise the sensitive data in training datasets.\\nFollowing the strategy of Private Aggregation of Teacher Ensembles (PATE),\\nrecent methods leverage a large ensemble of teacher models. These teachers are\\ntrained on disjoint subsets of private data and are employed to transfer\\nknowledge to a student model, which is then released with privacy guarantees.\\nHowever, splitting graph data into many disjoint training sets may destroy the\\nstructural information and adversely affect accuracy. We propose a new\\ngraph-specific scheme of releasing a student GNN, which avoids splitting\\nprivate training data altogether. The student GNN is trained using public data,\\npartly labeled privately using the teacher GNN models trained exclusively for\\neach query node. We theoretically analyze our approach in the R\\`{e}nyi\\ndifferential privacy framework and provide privacy guarantees. Besides, we show\\nthe solid experimental performance of our method compared to several baselines,\\nincluding the PATE baseline adapted for graph-structured data. Our anonymized\\ncode is available.</td>\n",
       "    </tr>\n",
       "    <tr>\n",
       "      <th>4</th>\n",
       "      <td>['cs.LG']</td>\n",
       "      <td>Recurrence-Aware Long-Term Cognitive Network for Explainable Pattern Classification</td>\n",
       "      <td>Machine learning solutions for pattern classification problems are nowadays\\nwidely deployed in society and industry. However, the lack of transparency and\\naccountability of most accurate models often hinders their safe use. Thus,\\nthere is a clear need for developing explainable artificial intelligence\\nmechanisms. There exist model-agnostic methods that summarize feature\\ncontributions, but their interpretability is limited to predictions made by\\nblack-box models. An open challenge is to develop models that have intrinsic\\ninterpretability and produce their own explanations, even for classes of models\\nthat are traditionally considered black boxes like (recurrent) neural networks.\\nIn this paper, we propose a Long-Term Cognitive Network for interpretable\\npattern classification of structured data. Our method brings its own mechanism\\nfor providing explanations by quantifying the relevance of each feature in the\\ndecision process. For supporting the interpretability without affecting the\\nperformance, the model incorporates more flexibility through a quasi-nonlinear\\nreasoning rule that allows controlling nonlinearity. Besides, we propose a\\nrecurrence-aware decision model that evades the issues posed by unique fixed\\npoints while introducing a deterministic learning method to compute the tunable\\nparameters. The simulations show that our interpretable model obtains\\ncompetitive results when compared to the state-of-the-art white and black-box\\nmodels.</td>\n",
       "    </tr>\n",
       "  </tbody>\n",
       "</table>\n",
       "</div>"
      ],
      "text/plain": [
       "                           terms  \\\n",
       "0                      ['cs.LG']   \n",
       "1             ['cs.LG', 'cs.AI']   \n",
       "2  ['cs.LG', 'cs.CR', 'stat.ML']   \n",
       "3             ['cs.LG', 'cs.CR']   \n",
       "4                      ['cs.LG']   \n",
       "\n",
       "                                                                                                             titles  \\\n",
       "0  Multi-Level Attention Pooling for Graph Neural Networks: Unifying Graph Representations with Multiple Localities   \n",
       "1       Decision Forests vs. Deep Networks: Conceptual Similarities and Empirical Differences at Small Sample Sizes   \n",
       "2                                                   Power up! Robust Graph Convolutional Network via Graph Powering   \n",
       "3                                              Releasing Graph Neural Networks with Differential Privacy Guarantees   \n",
       "4                               Recurrence-Aware Long-Term Cognitive Network for Explainable Pattern Classification   \n",
       "\n",
       "                                                                                                                                                                                                                                                                                                                                                                                                                                                                                                                                                                                                                                                                                                                                                                                                                                                                                                                                                                                                                                                                                                                                                                                                                                                                                                                                                                                                                                                                                                                                                                                                                                                                                                                                                                          abstracts  \n",
       "0  Graph neural networks (GNNs) have been widely used to learn vector\\nrepresentation of graph-structured data and achieved better task performance\\nthan conventional methods. The foundation of GNNs is the message passing\\nprocedure, which propagates the information in a node to its neighbors. Since\\nthis procedure proceeds one step per layer, the range of the information\\npropagation among nodes is small in the lower layers, and it expands toward the\\nhigher layers. Therefore, a GNN model has to be deep enough to capture global\\nstructural information in a graph. On the other hand, it is known that deep GNN\\nmodels suffer from performance degradation because they lose nodes' local\\ninformation, which would be essential for good model performance, through many\\nmessage passing steps. In this study, we propose multi-level attention pooling\\n(MLAP) for graph-level classification tasks, which can adapt to both local and\\nglobal structural information in a graph. It has an attention pooling layer for\\neach message passing step and computes the final graph representation by\\nunifying the layer-wise graph representations. The MLAP architecture allows\\nmodels to utilize the structural information of graphs with multiple levels of\\nlocalities because it preserves layer-wise information before losing them due\\nto oversmoothing. Results of our experiments show that the MLAP architecture\\nimproves the graph classification performance compared to the baseline\\narchitectures. In addition, analyses on the layer-wise graph representations\\nsuggest that aggregating information from multiple levels of localities indeed\\nhas the potential to improve the discriminability of learned graph\\nrepresentations.  \n",
       "1                                                                                                                                                              Deep networks and decision forests (such as random forests and gradient\\nboosted trees) are the leading machine learning methods for structured and\\ntabular data, respectively. Many papers have empirically compared large numbers\\nof classifiers on one or two different domains (e.g., on 100 different tabular\\ndata settings). However, a careful conceptual and empirical comparison of these\\ntwo strategies using the most contemporary best practices has yet to be\\nperformed. Conceptually, we illustrate that both can be profitably viewed as\\n\"partition and vote\" schemes. Specifically, the representation space that they\\nboth learn is a partitioning of feature space into a union of convex polytopes.\\nFor inference, each decides on the basis of votes from the activated nodes.\\nThis formulation allows for a unified basic understanding of the relationship\\nbetween these methods. Empirically, we compare these two strategies on hundreds\\nof tabular data settings, as well as several vision and auditory settings. Our\\nfocus is on datasets with at most 10,000 samples, which represent a large\\nfraction of scientific and biomedical datasets. In general, we found forests to\\nexcel at tabular and structured data (vision and audition) with small sample\\nsizes, whereas deep nets performed better on structured data with larger sample\\nsizes. This suggests that further gains in both scenarios may be realized via\\nfurther combining aspects of forests and networks. We will continue revising\\nthis technical report in the coming months with updated results.  \n",
       "2                                                                                                                                                                                                                                                                                                                                                                                                                                                                                                                                                                                                                                                                                                                                                                                                                                                                                                            Graph convolutional networks (GCNs) are powerful tools for graph-structured\\ndata. However, they have been recently shown to be vulnerable to topological\\nattacks. To enhance adversarial robustness, we go beyond spectral graph theory\\nto robust graph theory. By challenging the classical graph Laplacian, we\\npropose a new convolution operator that is provably robust in the spectral\\ndomain and is incorporated in the GCN architecture to improve expressivity and\\ninterpretability. By extending the original graph to a sequence of graphs, we\\nalso propose a robust training paradigm that encourages transferability across\\ngraphs that span a range of spatial and spectral characteristics. The proposed\\napproaches are demonstrated in extensive experiments to simultaneously improve\\nperformance in both benign and adversarial situations.  \n",
       "3                                                                                                                                                                                                                    With the increasing popularity of Graph Neural Networks (GNNs) in several\\nsensitive applications like healthcare and medicine, concerns have been raised\\nover the privacy aspects of trained GNNs. More notably, GNNs are vulnerable to\\nprivacy attacks, such as membership inference attacks, even if only blackbox\\naccess to the trained model is granted. To build defenses, differential privacy\\nhas emerged as a mechanism to disguise the sensitive data in training datasets.\\nFollowing the strategy of Private Aggregation of Teacher Ensembles (PATE),\\nrecent methods leverage a large ensemble of teacher models. These teachers are\\ntrained on disjoint subsets of private data and are employed to transfer\\nknowledge to a student model, which is then released with privacy guarantees.\\nHowever, splitting graph data into many disjoint training sets may destroy the\\nstructural information and adversely affect accuracy. We propose a new\\ngraph-specific scheme of releasing a student GNN, which avoids splitting\\nprivate training data altogether. The student GNN is trained using public data,\\npartly labeled privately using the teacher GNN models trained exclusively for\\neach query node. We theoretically analyze our approach in the R\\`{e}nyi\\ndifferential privacy framework and provide privacy guarantees. Besides, we show\\nthe solid experimental performance of our method compared to several baselines,\\nincluding the PATE baseline adapted for graph-structured data. Our anonymized\\ncode is available.  \n",
       "4                                                                                                                                                                                                                                           Machine learning solutions for pattern classification problems are nowadays\\nwidely deployed in society and industry. However, the lack of transparency and\\naccountability of most accurate models often hinders their safe use. Thus,\\nthere is a clear need for developing explainable artificial intelligence\\nmechanisms. There exist model-agnostic methods that summarize feature\\ncontributions, but their interpretability is limited to predictions made by\\nblack-box models. An open challenge is to develop models that have intrinsic\\ninterpretability and produce their own explanations, even for classes of models\\nthat are traditionally considered black boxes like (recurrent) neural networks.\\nIn this paper, we propose a Long-Term Cognitive Network for interpretable\\npattern classification of structured data. Our method brings its own mechanism\\nfor providing explanations by quantifying the relevance of each feature in the\\ndecision process. For supporting the interpretability without affecting the\\nperformance, the model incorporates more flexibility through a quasi-nonlinear\\nreasoning rule that allows controlling nonlinearity. Besides, we propose a\\nrecurrence-aware decision model that evades the issues posed by unique fixed\\npoints while introducing a deterministic learning method to compute the tunable\\nparameters. The simulations show that our interpretable model obtains\\ncompetitive results when compared to the state-of-the-art white and black-box\\nmodels.  "
      ]
     },
     "execution_count": 44,
     "metadata": {},
     "output_type": "execute_result"
    }
   ],
   "source": [
    "arxiv_data.head()"
   ]
  },
  {
   "cell_type": "markdown",
   "id": "796e8c0b",
   "metadata": {},
   "source": [
    "# Data Cleaning and Preprocessing"
   ]
  },
  {
   "cell_type": "code",
   "execution_count": 45,
   "id": "0f6ce7b0",
   "metadata": {},
   "outputs": [
    {
     "data": {
      "text/plain": [
       "(56181, 3)"
      ]
     },
     "execution_count": 45,
     "metadata": {},
     "output_type": "execute_result"
    }
   ],
   "source": [
    "arxiv_data.shape"
   ]
  },
  {
   "cell_type": "code",
   "execution_count": 46,
   "id": "9dd86c28",
   "metadata": {},
   "outputs": [
    {
     "data": {
      "text/plain": [
       "terms        0\n",
       "titles       0\n",
       "abstracts    0\n",
       "dtype: int64"
      ]
     },
     "execution_count": 46,
     "metadata": {},
     "output_type": "execute_result"
    }
   ],
   "source": [
    "arxiv_data.isnull().sum()"
   ]
  },
  {
   "cell_type": "code",
   "execution_count": 47,
   "id": "efcdf227",
   "metadata": {},
   "outputs": [
    {
     "data": {
      "text/plain": [
       "15054"
      ]
     },
     "execution_count": 47,
     "metadata": {},
     "output_type": "execute_result"
    }
   ],
   "source": [
    "arxiv_data.duplicated().sum()"
   ]
  },
  {
   "cell_type": "code",
   "execution_count": 48,
   "id": "c14beaba",
   "metadata": {},
   "outputs": [
    {
     "name": "stdout",
     "output_type": "stream",
     "text": [
      "labels : ['cs.LG' 'cs.AI' 'cs.CR' ... 'D.1.3; G.4; I.2.8; I.2.11; I.5.3; J.3'\n",
      " '68T07, 68T45, 68T10, 68T50, 68U35' 'I.2.0; G.3']\n",
      "lenght : 1177\n"
     ]
    }
   ],
   "source": [
    "# getting unique labels\n",
    "labels_column = arxiv_data['terms'].apply(literal_eval)\n",
    "labels = labels_column.explode().unique()\n",
    "print(\"labels :\",labels)\n",
    "print(\"lenght :\",len(labels))"
   ]
  },
  {
   "cell_type": "code",
   "execution_count": 49,
   "id": "b913859f",
   "metadata": {},
   "outputs": [],
   "source": [
    "arxiv_data = arxiv_data[~arxiv_data['titles'].duplicated()]"
   ]
  },
  {
   "cell_type": "code",
   "execution_count": 79,
   "id": "b3aa96b2",
   "metadata": {},
   "outputs": [
    {
     "data": {
      "text/plain": [
       "(41105, 1)"
      ]
     },
     "execution_count": 79,
     "metadata": {},
     "output_type": "execute_result"
    }
   ],
   "source": [
    "arxiv_data.shape"
   ]
  },
  {
   "cell_type": "code",
   "execution_count": 50,
   "id": "d52c4165",
   "metadata": {},
   "outputs": [
    {
     "name": "stdout",
     "output_type": "stream",
     "text": [
      "There are 41105 rows in the deduplicated dataset.\n",
      "2503\n",
      "3401\n"
     ]
    }
   ],
   "source": [
    "# remove duplicate entries based on the \"titles\" (terms) column\n",
    "# This filters the DataFrame, keeping only the rows where the titles are not duplicated.\n",
    "\n",
    "print(f\"There are {len(arxiv_data)} rows in the deduplicated dataset.\")\n",
    "# There are some terms with occurrence as low as 1.\n",
    "print(sum(arxiv_data['terms'].value_counts()==1))\n",
    "# how many unique terms\n",
    "print(arxiv_data['terms'].nunique())"
   ]
  },
  {
   "cell_type": "code",
   "execution_count": 51,
   "id": "5883bdf4",
   "metadata": {},
   "outputs": [
    {
     "data": {
      "text/plain": [
       "(38602, 3)"
      ]
     },
     "execution_count": 51,
     "metadata": {},
     "output_type": "execute_result"
    }
   ],
   "source": [
    "# Filtering the rare terms. (it keeps only those rows where the \"terms\" value occurs more than once in the original DataFrame.)\n",
    "arxiv_data_filtered = arxiv_data.groupby('terms').filter(lambda x: len(x) > 1)\n",
    "arxiv_data_filtered.shape"
   ]
  },
  {
   "cell_type": "code",
   "execution_count": 52,
   "id": "a8e35864",
   "metadata": {},
   "outputs": [
    {
     "data": {
      "text/plain": [
       "array([list(['cs.LG']), list(['cs.LG', 'cs.AI']),\n",
       "       list(['cs.LG', 'cs.CR', 'stat.ML'])], dtype=object)"
      ]
     },
     "execution_count": 52,
     "metadata": {},
     "output_type": "execute_result"
    }
   ],
   "source": [
    "# It evaluates the given string containing a Python literal or container display (e.g., a list or dictionary) and returns the corresponding Python object.\n",
    "arxiv_data_filtered['terms'] = arxiv_data_filtered['terms'].apply(lambda x: literal_eval(x))\n",
    "arxiv_data_filtered['terms'].values[:3]"
   ]
  },
  {
   "cell_type": "markdown",
   "id": "22ba3861",
   "metadata": {},
   "source": [
    "# train and test split."
   ]
  },
  {
   "cell_type": "code",
   "execution_count": 53,
   "id": "fd52b83c",
   "metadata": {},
   "outputs": [
    {
     "name": "stdout",
     "output_type": "stream",
     "text": [
      "Number of rows in training set: 34741\n",
      "Number of rows in validation set: 1930\n",
      "Number of rows in test set: 1931\n"
     ]
    }
   ],
   "source": [
    "test_split = 0.1\n",
    "\n",
    "# Initial train and test split.\n",
    "# The stratify parameter ensures that the splitting is done in a way that preserves the same distribution of labels (terms) in both the training and test sets.\n",
    "train_df, test_df = train_test_split(arxiv_data_filtered,test_size=test_split,stratify=arxiv_data_filtered[\"terms\"].values,)\n",
    "\n",
    "# Splitting the test set further into validation\n",
    "# and new test sets.\n",
    "val_df = test_df.sample(frac=0.5)\n",
    "test_df.drop(val_df.index, inplace=True)\n",
    "\n",
    "print(f\"Number of rows in training set: {len(train_df)}\")\n",
    "print(f\"Number of rows in validation set: {len(val_df)}\")\n",
    "print(f\"Number of rows in test set: {len(test_df)}\")"
   ]
  },
  {
   "cell_type": "code",
   "execution_count": 54,
   "id": "ee848e0d",
   "metadata": {},
   "outputs": [
    {
     "name": "stdout",
     "output_type": "stream",
     "text": [
      "Vocabulary:\n",
      "\n",
      "['[UNK]', 'cs.CV', 'cs.LG', 'stat.ML', 'cs.AI', 'eess.IV', 'cs.RO', 'cs.CL', 'cs.NE', 'cs.GR', 'cs.CR', 'math.OC', 'eess.SP', 'cs.SI', 'cs.MM', 'cs.SY', 'cs.IR', 'eess.SY', 'cs.MA', 'cs.HC', 'math.IT', 'cs.IT', 'cs.DC', 'stat.AP', 'cs.CY', 'stat.ME', 'stat.TH', 'math.ST', 'eess.AS', 'cs.SD', 'cs.DS', 'q-bio.QM', 'q-bio.NC', 'cs.CG', 'stat.CO', 'cs.NI', 'cs.GT', 'math.NA', 'cs.SE', 'cs.NA', 'I.2.6', 'physics.chem-ph', 'cs.DB', 'physics.comp-ph', 'cond-mat.dis-nn', 'q-bio.BM', 'cs.LO', 'math.PR', 'cs.PL', '68T45', 'cs.AR', 'physics.data-an', 'quant-ph', 'I.2.10', 'cs.CE', 'cond-mat.stat-mech', 'q-fin.ST', 'physics.ao-ph', 'math.DS', 'I.4.6', 'cs.CC', '68T05', 'physics.soc-ph', 'physics.med-ph', 'cs.PF', 'cs.DM', 'econ.EM', 'I.4.8', 'q-bio.GN', 'astro-ph.IM', 'physics.flu-dyn', 'math.AT', 'hep-ex', 'I.4', '68U10', 'q-fin.TR', 'physics.geo-ph', 'cs.FL', 'I.5.4', 'I.2', 'physics.optics', 'cond-mat.mtrl-sci', 'I.4.9', '68T10', 'I.4; I.5', '68T07', 'q-fin.CP', 'math.CO', 'math.AP', 'I.2.6; I.2.8', '65D19', 'q-bio.PE', 'physics.app-ph', 'nlin.CD', 'cs.MS', 'I.4.5', 'I.2.6; I.5.1', 'I.2.10; I.4; I.5', 'I.2.0; I.2.6', '68U01', '68T01', 'hep-ph', 'cs.SC', 'cs.ET', 'K.3.2', 'I.2.8', 'I.2.10; I.4.8', '68T30', 'q-fin.GN', 'q-fin.EC', 'q-bio.MN', 'econ.GN', 'I.4.9; I.5.4', 'I.4.0', 'I.2; I.5', 'I.2; I.4; I.5', 'I.2.6; I.2.7', '68T99', '68Q32', '68', '62H30', 'q-fin.RM', 'q-fin.PM', 'q-bio.TO', 'q-bio.OT', 'physics.plasm-ph', 'physics.class-ph', 'physics.bio-ph', 'nlin.AO', 'math.SP', 'math.MP', 'math.LO', 'math.FA', 'math-ph', 'cs.DL', 'cond-mat.soft', 'I.5.2', 'I.4.6; I.4.8', 'I.4.4', 'I.4.3', 'I.4.1', 'I.3.7', 'I.2; J.2', 'I.2; I.2.6; I.2.7', 'I.2.7', 'I.2.6; I.5.4', 'I.2.6; I.2.9', 'I.2.6; I.2.7; H.3.1; H.3.3', 'I.2.6; I.2.10', 'I.2.6, I.5.4', 'I.2.1; J.3', 'I.2.10; I.5.1; I.4.8', 'I.2.10; I.4.8; I.5.4', 'I.2.10; I.2.6', 'I.2.1', 'H.3.1; I.2.6; I.2.7', 'H.3.1; H.3.3; I.2.6; I.2.7', 'G.3', 'F.2.2; I.2.7', 'E.5; E.4; E.2; H.1.1; F.1.1; F.1.3', '68Txx', '62H99', '62H35', '60L10, 60L20', '14J60 (Primary) 14F05, 14J26 (Secondary)']\n"
     ]
    }
   ],
   "source": [
    "# creates a TensorFlow RaggedTensor (terms) from the values in the \"terms\" column of the train_df DataFrame. A RaggedTensor is a tensor with non-uniform shapes\n",
    "terms = tf.ragged.constant(train_df['terms'].values)\n",
    "# This line creates a StringLookup layer in TensorFlow. The purpose of this layer is to map strings to integer indices and vice versa. The output_mode=\"multi_hot\" indicates that the layer will output a multi-hot encoded representation of the input strings.\n",
    "lookup = tf.keras.layers.StringLookup(output_mode='multi_hot')\n",
    "# This step adapts the StringLookup layer to the unique values in the \"terms\" column, building the vocabulary.\n",
    "lookup.adapt(terms)\n",
    "# retrieve vocabulary\n",
    "vocab = lookup.get_vocabulary()\n",
    "\n",
    "print(\"Vocabulary:\\n\")\n",
    "print(vocab)"
   ]
  },
  {
   "cell_type": "code",
   "execution_count": 80,
   "id": "78311b9c",
   "metadata": {},
   "outputs": [
    {
     "data": {
      "text/plain": [
       "1756                            [cs.CV]\n",
       "12167           [cs.LG, cs.AI, stat.ML]\n",
       "6095               [cs.CV, astro-ph.IM]\n",
       "24751             [cs.LG, cs.CV, cs.NE]\n",
       "4605                   [stat.ML, cs.LG]\n",
       "                      ...              \n",
       "20241                           [cs.CV]\n",
       "7153                            [cs.LG]\n",
       "1621                            [cs.CV]\n",
       "12684                    [cs.CV, cs.LG]\n",
       "15646    [stat.ML, cs.CV, cs.LG, cs.NE]\n",
       "Name: terms, Length: 34741, dtype: object"
      ]
     },
     "execution_count": 80,
     "metadata": {},
     "output_type": "execute_result"
    }
   ],
   "source": [
    "train_df['terms']"
   ]
  },
  {
   "cell_type": "code",
   "execution_count": 55,
   "id": "bd32a8c9",
   "metadata": {},
   "outputs": [
    {
     "name": "stdout",
     "output_type": "stream",
     "text": [
      "Original label: ['cs.CV']\n",
      "Label-binarized representation: [[0. 1. 0. 0. 0. 0. 0. 0. 0. 0. 0. 0. 0. 0. 0. 0. 0. 0. 0. 0. 0. 0. 0. 0.\n",
      "  0. 0. 0. 0. 0. 0. 0. 0. 0. 0. 0. 0. 0. 0. 0. 0. 0. 0. 0. 0. 0. 0. 0. 0.\n",
      "  0. 0. 0. 0. 0. 0. 0. 0. 0. 0. 0. 0. 0. 0. 0. 0. 0. 0. 0. 0. 0. 0. 0. 0.\n",
      "  0. 0. 0. 0. 0. 0. 0. 0. 0. 0. 0. 0. 0. 0. 0. 0. 0. 0. 0. 0. 0. 0. 0. 0.\n",
      "  0. 0. 0. 0. 0. 0. 0. 0. 0. 0. 0. 0. 0. 0. 0. 0. 0. 0. 0. 0. 0. 0. 0. 0.\n",
      "  0. 0. 0. 0. 0. 0. 0. 0. 0. 0. 0. 0. 0. 0. 0. 0. 0. 0. 0. 0. 0. 0. 0. 0.\n",
      "  0. 0. 0. 0. 0. 0. 0. 0. 0. 0. 0. 0. 0. 0. 0. 0. 0. 0. 0. 0. 0.]]\n"
     ]
    }
   ],
   "source": [
    "sample_label = train_df[\"terms\"].iloc[0]\n",
    "print(f\"Original label: {sample_label}\")\n",
    "\n",
    "label_binarized = lookup([sample_label])\n",
    "print(f\"Label-binarized representation: {label_binarized}\")"
   ]
  },
  {
   "cell_type": "code",
   "execution_count": 56,
   "id": "120e17de",
   "metadata": {},
   "outputs": [
    {
     "data": {
      "text/plain": [
       "'\\nIn summary, the make_dataset function is designed to create a \\ndataset suitable for training a model. It takes a dataframe as input, \\nassumes it has \"abstracts\" and \"terms\" columns, and creates a dataset of \\nbatches where each batch consists of abstract \\nsequences and their corresponding binarized label sequences. \\n'"
      ]
     },
     "execution_count": 56,
     "metadata": {},
     "output_type": "execute_result"
    }
   ],
   "source": [
    "# following lines::\n",
    "# which is used for automatic adjustment of resource usage by TensorFlow's data loading pipeline.\n",
    "\n",
    "#max_seqlen: Maximum sequence length. It indicates the maximum length allowed for sequences.\n",
    "max_seqlen = 150\n",
    "#batch_size: Batch size. It specifies the number of samples to use in each iteration.\n",
    "batch_size = 128\n",
    "#padding_token: A token used for padding sequences.\n",
    "padding_token = \"<pad>\"\n",
    "#auto = tf.data.AUTOTUNE: auto is assigned the value tf.data.AUTOTUNE,\n",
    "auto = tf.data.AUTOTUNE\n",
    "\n",
    "def make_dataset(dataframe, is_train=True):\n",
    "    # creating sequences of labesls\n",
    "    labels = tf.ragged.constant(dataframe[\"terms\"].values)\n",
    "    #This line uses the previously defined lookup layer to convert the ragged tensor of labels into a binarized representation. The resulting label_binarized is a NumPy array.\n",
    "    label_binarized = lookup(labels).numpy()\n",
    "    # creating sequences of text.\n",
    "    dataset = tf.data.Dataset.from_tensor_slices((dataframe[\"abstracts\"].values, label_binarized))\n",
    "    # shuffling data basis on condition\n",
    "    dataset = dataset.shuffle(batch_size * 10) if is_train else dataset\n",
    "    return dataset.batch(batch_size)\n",
    "\n",
    "\"\"\"\n",
    "In summary, the make_dataset function is designed to create a \n",
    "dataset suitable for training a model. It takes a dataframe as input, \n",
    "assumes it has \"abstracts\" and \"terms\" columns, and creates a dataset of \n",
    "batches where each batch consists of abstract \n",
    "sequences and their corresponding binarized label sequences. \n",
    "\"\"\""
   ]
  },
  {
   "cell_type": "code",
   "execution_count": 81,
   "id": "ee8f5aa0",
   "metadata": {},
   "outputs": [
    {
     "name": "stdout",
     "output_type": "stream",
     "text": [
      "tf.Tensor(b'Homographies -- a mathematical formalism for relating image points across\\ndifferent camera viewpoints -- are at the foundations of geometric methods in\\ncomputer vision and are used in geometric camera calibration, image\\nregistration, and stereo vision and other tasks. In this paper, we show the\\nsurprising result that colors across a change in viewing condition (changing\\nlight color, shading and camera) are also related by a homography. We propose a\\nnew color correction method based on color homography. Experiments demonstrate\\nthat solving the color homography problem leads to more accurate calibration.', shape=(), dtype=string)\n",
      "[[0. 1. 0. 0. 0. 0. 0. 0. 0. 0. 0. 0. 0. 0. 0. 0. 0. 0. 0. 0. 0. 0. 0. 0.\n",
      "  0. 0. 0. 0. 0. 0. 0. 0. 0. 0. 0. 0. 0. 0. 0. 0. 0. 0. 0. 0. 0. 0. 0. 0.\n",
      "  0. 0. 0. 0. 0. 0. 0. 0. 0. 0. 0. 0. 0. 0. 0. 0. 0. 0. 0. 0. 0. 0. 0. 0.\n",
      "  0. 0. 0. 0. 0. 0. 0. 0. 0. 0. 0. 0. 0. 0. 0. 0. 0. 0. 0. 0. 0. 0. 0. 0.\n",
      "  0. 0. 0. 0. 0. 0. 0. 0. 0. 0. 0. 0. 0. 0. 0. 0. 0. 0. 0. 0. 0. 0. 0. 0.\n",
      "  0. 0. 0. 0. 0. 0. 0. 0. 0. 0. 0. 0. 0. 0. 0. 0. 0. 0. 0. 0. 0. 0. 0. 0.\n",
      "  0. 0. 0. 0. 0. 0. 0. 0. 0. 0. 0. 0. 0. 0. 0. 0. 0. 0. 0. 0. 0.]]\n",
      "tf.Tensor(b'In this paper, we propose the Quantile Option Architecture (QUOTA) for\\nexploration based on recent advances in distributional reinforcement learning\\n(RL). In QUOTA, decision making is based on quantiles of a value distribution,\\nnot only the mean. QUOTA provides a new dimension for exploration via making\\nuse of both optimism and pessimism of a value distribution. We demonstrate the\\nperformance advantage of QUOTA in both challenging video games and physical\\nrobot simulators.', shape=(), dtype=string)\n",
      "[[0. 0. 1. 0. 1. 0. 0. 0. 0. 0. 0. 0. 0. 0. 0. 0. 0. 0. 0. 0. 0. 0. 0. 0.\n",
      "  0. 0. 0. 0. 0. 0. 0. 0. 0. 0. 0. 0. 0. 0. 0. 0. 0. 0. 0. 0. 0. 0. 0. 0.\n",
      "  0. 0. 0. 0. 0. 0. 0. 0. 0. 0. 0. 0. 0. 0. 0. 0. 0. 0. 0. 0. 0. 0. 0. 0.\n",
      "  0. 0. 0. 0. 0. 0. 0. 0. 0. 0. 0. 0. 0. 0. 0. 0. 0. 0. 0. 0. 0. 0. 0. 0.\n",
      "  0. 0. 0. 0. 0. 0. 0. 0. 0. 0. 0. 0. 0. 0. 0. 0. 0. 0. 0. 0. 0. 0. 0. 0.\n",
      "  0. 0. 0. 0. 0. 0. 0. 0. 0. 0. 0. 0. 0. 0. 0. 0. 0. 0. 0. 0. 0. 0. 0. 0.\n",
      "  0. 0. 0. 0. 0. 0. 0. 0. 0. 0. 0. 0. 0. 0. 0. 0. 0. 0. 0. 0. 0.]]\n",
      "tf.Tensor(b'In Digital Holography (DH), it is crucial to extract the object distance from\\na hologram in order to reconstruct its amplitude and phase. This step is called\\nauto-focusing and it is conventionally solved by first reconstructing a stack\\nof images and then by sharpening each reconstructed image using a focus metric\\nsuch as entropy or variance. The distance corresponding to the sharpest image\\nis considered the focal position. This approach, while effective, is\\ncomputationally demanding and time-consuming. In this paper, the determination\\nof the distance is performed by Deep Learning (DL). Two deep learning (DL)\\narchitectures are compared: Convolutional Neural Network (CNN)and Visual\\ntransformer (ViT). ViT and CNN are used to cope with the problem of\\nauto-focusing as a classification problem. Compared to a first attempt [11] in\\nwhich the distance between two consecutive classes was 100{\\\\mu}m, our proposal\\nallows us to drastically reduce this distance to 1{\\\\mu}m. Moreover, ViT reaches\\nsimilar accuracy and is more robust than CNN.', shape=(), dtype=string)\n",
      "[[0. 1. 0. 0. 0. 1. 0. 0. 0. 0. 0. 0. 0. 0. 0. 0. 0. 0. 0. 0. 0. 0. 0. 0.\n",
      "  0. 0. 0. 0. 0. 0. 0. 0. 0. 0. 0. 0. 0. 0. 0. 0. 0. 0. 0. 0. 0. 0. 0. 0.\n",
      "  0. 0. 0. 0. 0. 0. 0. 0. 0. 0. 0. 0. 0. 0. 0. 0. 0. 0. 0. 0. 0. 0. 0. 0.\n",
      "  0. 0. 0. 0. 0. 0. 0. 0. 0. 0. 0. 0. 0. 0. 0. 0. 0. 0. 0. 0. 0. 0. 0. 0.\n",
      "  0. 0. 0. 0. 0. 0. 0. 0. 0. 0. 0. 0. 0. 0. 0. 0. 0. 0. 0. 0. 0. 0. 0. 0.\n",
      "  0. 0. 0. 0. 0. 0. 0. 0. 0. 0. 0. 0. 0. 0. 0. 0. 0. 0. 0. 0. 0. 0. 0. 0.\n",
      "  0. 0. 0. 0. 0. 0. 0. 0. 0. 0. 0. 0. 0. 0. 0. 0. 0. 0. 0. 0. 0.]]\n",
      "tf.Tensor(b'State-space models (SSMs) provide a flexible framework for modelling\\ntime-series data. Consequently, SSMs are ubiquitously applied in areas such as\\nengineering, econometrics and epidemiology. In this paper we provide a fast\\napproach for approximate Bayesian inference in SSMs using the tools of deep\\nlearning and variational inference.', shape=(), dtype=string)\n",
      "[[0. 0. 1. 1. 0. 0. 0. 0. 0. 0. 0. 0. 0. 0. 0. 0. 0. 0. 0. 0. 0. 0. 0. 0.\n",
      "  0. 0. 0. 0. 0. 0. 0. 0. 0. 0. 0. 0. 0. 0. 0. 0. 0. 0. 0. 0. 0. 0. 0. 0.\n",
      "  0. 0. 0. 0. 0. 0. 0. 0. 0. 0. 0. 0. 0. 0. 0. 0. 0. 0. 0. 0. 0. 0. 0. 0.\n",
      "  0. 0. 0. 0. 0. 0. 0. 0. 0. 0. 0. 0. 0. 0. 0. 0. 0. 0. 0. 0. 0. 0. 0. 0.\n",
      "  0. 0. 0. 0. 0. 0. 0. 0. 0. 0. 0. 0. 0. 0. 0. 0. 0. 0. 0. 0. 0. 0. 0. 0.\n",
      "  0. 0. 0. 0. 0. 0. 0. 0. 0. 0. 0. 0. 0. 0. 0. 0. 0. 0. 0. 0. 0. 0. 0. 0.\n",
      "  0. 0. 0. 0. 0. 0. 0. 0. 0. 0. 0. 0. 0. 0. 0. 0. 0. 0. 0. 0. 0.]]\n",
      "tf.Tensor(b'Recent advancements in deep learning-based modeling of molecules promise to\\naccelerate in silico drug discovery. A plethora of generative models is\\navailable, building molecules either atom-by-atom and bond-by-bond or\\nfragment-by-fragment. However, many drug discovery projects require a fixed\\nscaffold to be present in the generated molecule, and incorporating that\\nconstraint has only recently been explored. In this work, we propose a new\\ngraph-based model that naturally supports scaffolds as initial seed of the\\ngenerative procedure, which is possible because our model is not conditioned on\\nthe generation history. At the same time, our generation procedure can flexibly\\nchoose between adding individual atoms and entire fragments. We show that\\ntraining using a randomized generation order is necessary for good performance\\nwhen extending scaffolds, and that the results are further improved by\\nincreasing the fragment vocabulary size. Our model pushes the state-of-the-art\\nof graph-based molecule generation, while being an order of magnitude faster to\\ntrain and sample from than existing approaches.', shape=(), dtype=string)\n",
      "[[0. 0. 1. 0. 0. 0. 0. 0. 0. 0. 0. 0. 0. 0. 0. 0. 0. 0. 0. 0. 0. 0. 0. 0.\n",
      "  0. 0. 0. 0. 0. 0. 0. 1. 0. 0. 0. 0. 0. 0. 0. 0. 0. 0. 0. 0. 0. 0. 0. 0.\n",
      "  0. 0. 0. 0. 0. 0. 0. 0. 0. 0. 0. 0. 0. 0. 0. 0. 0. 0. 0. 0. 0. 0. 0. 0.\n",
      "  0. 0. 0. 0. 0. 0. 0. 0. 0. 0. 0. 0. 0. 0. 0. 0. 0. 0. 0. 0. 0. 0. 0. 0.\n",
      "  0. 0. 0. 0. 0. 0. 0. 0. 0. 0. 0. 0. 0. 0. 0. 0. 0. 0. 0. 0. 0. 0. 0. 0.\n",
      "  0. 0. 0. 0. 0. 0. 0. 0. 0. 0. 0. 0. 0. 0. 0. 0. 0. 0. 0. 0. 0. 0. 0. 0.\n",
      "  0. 0. 0. 0. 0. 0. 0. 0. 0. 0. 0. 0. 0. 0. 0. 0. 0. 0. 0. 0. 0.]]\n"
     ]
    }
   ],
   "source": [
    "text_batch,label_batch = next(iter(train_dataset))\n",
    "for i,text in enumerate(text_batch[:5]):\n",
    "    label = label_batch[i].numpy()[None,...]\n",
    "    print(text)\n",
    "    print(label)"
   ]
  },
  {
   "cell_type": "code",
   "execution_count": 57,
   "id": "6c36ee52",
   "metadata": {},
   "outputs": [],
   "source": [
    "train_dataset = make_dataset(train_df, is_train=True)\n",
    "validation_dataset = make_dataset(val_df, is_train=False)\n",
    "test_dataset = make_dataset(test_df, is_train=False)"
   ]
  },
  {
   "cell_type": "code",
   "execution_count": 86,
   "id": "d409c7bf",
   "metadata": {},
   "outputs": [
    {
     "name": "stdout",
     "output_type": "stream",
     "text": [
      "tf.Tensor(b'Convolutional neural network (CNN) have proven its success for semantic\\nsegmentation, which is a core task of emerging industrial applications such as\\nautonomous driving. However, most progress in semantic segmentation of urban\\nscenes is reported on standard scenarios, i.e., daytime scenes with favorable\\nillumination conditions. In practical applications, the outdoor weather and\\nillumination are changeable, e.g., cloudy and nighttime, which results in a\\nsignificant drop of semantic segmentation accuracy of CNN only trained with\\ndaytime data. In this paper, we propose a novel generative adversarial network\\n(namely Mutual-GAN) to alleviate the accuracy decline when daytime-trained\\nneural network is applied to videos captured under adverse weather conditions.\\nThe proposed Mutual-GAN adopts mutual information constraint to preserve\\nimage-objects during cross-weather adaptation, which is an unsolved problem for\\nmost unsupervised image-to-image translation approaches (e.g., CycleGAN). The\\nproposed Mutual-GAN is evaluated on two publicly available driving video\\ndatasets (i.e., CamVid and SYNTHIA). The experimental results demonstrate that\\nour Mutual-GAN can yield visually plausible translated images and significantly\\nimprove the semantic segmentation accuracy of daytime-trained deep learning\\nnetwork while processing videos under challenging weathers.', shape=(), dtype=string)\n",
      "['[UNK]' '[UNK]']\n",
      "tf.Tensor(b'We apply multilayer bootstrap network (MBN), a recent proposed unsupervised\\nlearning method, to unsupervised speaker recognition. The proposed method first\\nextracts supervectors from an unsupervised universal background model, then\\nreduces the dimension of the high-dimensional supervectors by multilayer\\nbootstrap network, and finally conducts unsupervised speaker recognition by\\nclustering the low-dimensional data. The comparison results with 2 unsupervised\\nand 1 supervised speaker recognition techniques demonstrate the effectiveness\\nand robustness of the proposed method.', shape=(), dtype=string)\n",
      "['[UNK]' '[UNK]']\n",
      "tf.Tensor(b\"Active researches are currently being performed to incorporate the wealth of\\nscientific knowledge into data-driven approaches (e.g., neural networks) in\\norder to improve the latter's effectiveness. In this study, the Theory-guided\\nNeural Network (TgNN) is proposed for deep learning of subsurface flow. In the\\nTgNN, as supervised learning, the neural network is trained with available\\nobservations or simulation data while being simultaneously guided by theory\\n(e.g., governing equations, other physical constraints, engineering controls,\\nand expert knowledge) of the underlying problem. The TgNN can achieve higher\\naccuracy than the ordinary Artificial Neural Network (ANN) because the former\\nprovides physically feasible predictions and can be more readily generalized\\nbeyond the regimes covered with the training data. Furthermore, the TgNN model\\nis proposed for subsurface flow with heterogeneous model parameters. Several\\nnumerical cases of two-dimensional transient saturated flow are introduced to\\ntest the performance of the TgNN. In the learning process, the loss function\\ncontains data mismatch, as well as PDE constraint, engineering control, and\\nexpert knowledge. After obtaining the parameters of the neural network by\\nminimizing the loss function, a TgNN model is built that not only fits the\\ndata, but also adheres to physical/engineering constraints. Predicting the\\nfuture response can be easily realized by the TgNN model. In addition, the TgNN\\nmodel is tested in more complicated scenarios, such as prediction with changed\\nboundary conditions, learning from noisy data or outliers, transfer learning,\\nand engineering controls. Numerical results demonstrate that the TgNN model\\nachieves much better predictability, reliability, and generalizability than ANN\\nmodels due to the physical/engineering constraints in the former.\", shape=(), dtype=string)\n",
      "['[UNK]' '[UNK]']\n",
      "tf.Tensor(b'Current Deep Reinforcement Learning algorithms still heavily rely on\\nhandcrafted neural network architectures. We propose a novel approach to\\nautomatically find strong topologies for continuous control tasks while only\\nadding a minor overhead in terms of interactions in the environment. To achieve\\nthis, we combine Neuroevolution techniques with off-policy training and propose\\na novel architecture mutation operator. Experiments on five continuous control\\nbenchmarks show that the proposed Actor-Critic Neuroevolution algorithm often\\noutperforms the strong Actor-Critic baseline and is capable of automatically\\nfinding topologies in a sample-efficient manner which would otherwise have to\\nbe found by expensive architecture search.', shape=(), dtype=string)\n",
      "['[UNK]' '[UNK]' '[UNK]']\n",
      "tf.Tensor(b'Image manipulation with natural language, which aims to manipulate images\\nwith the guidance of language descriptions, has been a challenging problem in\\nthe fields of computer vision and natural language processing (NLP). Currently,\\na number of efforts have been made for this task, but their performances are\\nstill distant away from generating realistic and text-conformed manipulated\\nimages. Therefore, in this paper, we propose a memory-based Image Manipulation\\nNetwork (MIM-Net), where a set of memories learned from images is introduced to\\nsynthesize the texture information with the guidance of the textual\\ndescription. We propose a two-stage network with an additional reconstruction\\nstage to learn the latent memories efficiently. To avoid the unnecessary\\nbackground changes, we propose a Target Localization Unit (TLU) to focus on the\\nmanipulation of the region mentioned by the text. Moreover, to learn a robust\\nmemory, we further propose a novel randomized memory training loss. Experiments\\non the four popular datasets show the better performance of our method compared\\nto the existing ones.', shape=(), dtype=string)\n",
      "['[UNK]']\n"
     ]
    }
   ],
   "source": [
    "def invert_multi_hot(encoded_labels):\n",
    "    hot_indeces = np.argwhere(encoded_labels==1.0)[...,0]\n",
    "    return np.take(vocab,hot_indeces)\n",
    "\n",
    "\n",
    "\n",
    "# This code snippet is iterating through batches of the training dataset and printing the abstract text along with the corresponding labels.\n",
    "text_batch, label_batch = next(iter(train_dataset))\n",
    "for i, text in enumerate(text_batch[:5]):\n",
    "    label = label_batch[i].numpy()[None, ...]\n",
    "    print(text)\n",
    "    print(invert_multi_hot(label))\n",
    "   "
   ]
  },
  {
   "cell_type": "code",
   "execution_count": 87,
   "id": "3881b07a",
   "metadata": {},
   "outputs": [
    {
     "name": "stdout",
     "output_type": "stream",
     "text": [
      "158986\n"
     ]
    }
   ],
   "source": [
    "# This code calculates the size of the vocabulary in the \"abstracts\" column of the train_df DataFrame.\n",
    "\n",
    "# Creating vocabulary with uniques words\n",
    "vocabulary = set()\n",
    "train_df[\"abstracts\"].str.lower().str.split().apply(vocabulary.update)\n",
    "vocabulary_size = len(vocabulary)\n",
    "print(vocabulary_size)"
   ]
  },
  {
   "cell_type": "markdown",
   "id": "4f8c291e",
   "metadata": {},
   "source": [
    "# Text Vectorization"
   ]
  },
  {
   "cell_type": "code",
   "execution_count": 88,
   "id": "13305e60",
   "metadata": {},
   "outputs": [],
   "source": [
    "# Initializes a TextVectorization layer\n",
    "text_vectorizer = layers.TextVectorization(max_tokens=vocabulary_size,ngrams=2,output_mode=\"tf_idf\")\n",
    "# `TextVectorization` layer needs to be adapted as per the vocabulary from our\n",
    "# training set.\n",
    "text_vectorizer.adapt(train_dataset.map(lambda text, label: text))"
   ]
  },
  {
   "cell_type": "code",
   "execution_count": 89,
   "id": "6b82682c",
   "metadata": {},
   "outputs": [],
   "source": [
    "\"\"\"\n",
    "Mapping Vectorization to Datasets: The code maps the text vectorization operation to \n",
    "each element of the training, validation, and test datasets. This ensures that the text\n",
    "data in each dataset is transformed into numerical vectors using the adapted TextVectorization layer.\n",
    "The num_parallel_calls parameter is used to parallelize the mapping process, and prefetch is \n",
    "applied to prefetch data batches \n",
    "for better performance.\n",
    "\"\"\"\n",
    "train_dataset = train_dataset.map(lambda text, label: (text_vectorizer(text), label), num_parallel_calls=auto).prefetch(auto)\n",
    "validation_dataset = validation_dataset.map(lambda text, label: (text_vectorizer(text), label), num_parallel_calls=auto).prefetch(auto)\n",
    "test_dataset = test_dataset.map(lambda text, label: (text_vectorizer(text), label), num_parallel_calls=auto).prefetch(auto)"
   ]
  },
  {
   "cell_type": "markdown",
   "id": "85485df2",
   "metadata": {},
   "source": [
    "# model training"
   ]
  },
  {
   "cell_type": "code",
   "execution_count": 90,
   "id": "1595fa1d",
   "metadata": {
    "scrolled": true
   },
   "outputs": [
    {
     "name": "stdout",
     "output_type": "stream",
     "text": [
      "Epoch 1/20\n",
      "272/272 [==============================] - 207s 754ms/step - loss: 0.0489 - binary_accuracy: 0.9831 - val_loss: 0.0183 - val_binary_accuracy: 0.9947\n",
      "Epoch 2/20\n",
      "272/272 [==============================] - 210s 769ms/step - loss: 0.0175 - binary_accuracy: 0.9950 - val_loss: 0.0179 - val_binary_accuracy: 0.9947\n",
      "Epoch 3/20\n",
      "272/272 [==============================] - 199s 729ms/step - loss: 0.0137 - binary_accuracy: 0.9959 - val_loss: 0.0185 - val_binary_accuracy: 0.9946\n",
      "Epoch 4/20\n",
      "272/272 [==============================] - 198s 727ms/step - loss: 0.0113 - binary_accuracy: 0.9966 - val_loss: 0.0192 - val_binary_accuracy: 0.9947\n",
      "Epoch 5/20\n",
      "272/272 [==============================] - 197s 723ms/step - loss: 0.0098 - binary_accuracy: 0.9971 - val_loss: 0.0203 - val_binary_accuracy: 0.9946\n",
      "Epoch 6/20\n",
      "272/272 [==============================] - 183s 671ms/step - loss: 0.0086 - binary_accuracy: 0.9975 - val_loss: 0.0198 - val_binary_accuracy: 0.9945\n",
      "Epoch 7/20\n",
      "272/272 [==============================] - 199s 730ms/step - loss: 0.0078 - binary_accuracy: 0.9977 - val_loss: 0.0207 - val_binary_accuracy: 0.9947\n"
     ]
    }
   ],
   "source": [
    "# creating shallow_mlp_model  (MLP)\n",
    "from tensorflow.keras.callbacks import EarlyStopping\n",
    "\n",
    "# Creating shallow_mlp_model (MLP) with dropout layers\n",
    "model1 = keras.Sequential([\n",
    "    # First hidden layer: 512 neurons, ReLU activation function, with dropout.\n",
    "    layers.Dense(512, activation=\"relu\"),\n",
    "    layers.Dropout(0.5),  # Adding dropout for regularization.\n",
    "\n",
    "    # Second hidden layer: 256 neurons, ReLU activation function, with dropout.\n",
    "    layers.Dense(256, activation=\"relu\"),\n",
    "    layers.Dropout(0.5),  # Adding dropout for regularization.\n",
    "\n",
    "    # Output layer: The number of neurons equals the vocabulary size (output vocabulary of the StringLookup layer), with a sigmoid activation function.\n",
    "    layers.Dense(lookup.vocabulary_size(), activation='sigmoid')\n",
    "])\n",
    "\n",
    "# Compile the model\n",
    "model1.compile(loss=\"binary_crossentropy\", optimizer='adam', metrics=['binary_accuracy'])\n",
    "\n",
    "# Add early stopping\n",
    "# Number of epochs with no improvement after which training will be stopped.\n",
    "# Restore weights from the epoch with the best value of the monitored quantity.\n",
    "early_stopping = EarlyStopping(patience=5,restore_best_weights=True)\n",
    "\n",
    "# Train the model\n",
    "# Add early stopping callback.verbose=1\n",
    "history = model1.fit(train_dataset,validation_data=validation_dataset,epochs=20,callbacks=[early_stopping])"
   ]
  },
  {
   "cell_type": "code",
   "execution_count": 91,
   "id": "1ccc3be2",
   "metadata": {
    "scrolled": true
   },
   "outputs": [
    {
     "data": {
      "image/png": "[encoded data removed]",
      "text/plain": [
       "<Figure size 640x480 with 1 Axes>"
      ]
     },
     "metadata": {},
     "output_type": "display_data"
    },
    {
     "data": {
      "image/png": "[encoded data removed]",
      "text/plain": [
       "<Figure size 640x480 with 1 Axes>"
      ]
     },
     "metadata": {},
     "output_type": "display_data"
    }
   ],
   "source": [
    "# plotting loss\n",
    "def plot_result(item):\n",
    "    plt.plot(history.history[item], label=item)\n",
    "    plt.plot(history.history[\"val_\" + item], label=\"val_\" + item)\n",
    "    plt.xlabel(\"Epochs\")\n",
    "    plt.ylabel(item)\n",
    "    plt.title(\"Train and Validation {} Over Epochs\".format(item), fontsize=14)\n",
    "    plt.legend()\n",
    "    plt.grid()\n",
    "    plt.show()\n",
    "\n",
    "\n",
    "plot_result(\"loss\")\n",
    "plot_result(\"binary_accuracy\")"
   ]
  },
  {
   "cell_type": "markdown",
   "id": "9864d7ce",
   "metadata": {},
   "source": [
    "# Model Evaluation"
   ]
  },
  {
   "cell_type": "code",
   "execution_count": 92,
   "id": "cebc1c9c",
   "metadata": {},
   "outputs": [
    {
     "name": "stdout",
     "output_type": "stream",
     "text": [
      "16/16 [==============================] - 2s 111ms/step - loss: 0.0183 - binary_accuracy: 0.9946\n",
      "16/16 [==============================] - 2s 114ms/step - loss: 0.0179 - binary_accuracy: 0.9947\n",
      "Categorical accuracy on the test set: 99.46%.\n",
      "Categorical accuracy on the validation set: 99.47%.\n"
     ]
    }
   ],
   "source": [
    "# model evaltuation on test and val dataset\n",
    "_, binary_acc1 = model1.evaluate(test_dataset)\n",
    "_, binary_acc2 = model1.evaluate(validation_dataset)\n",
    "\n",
    "print(f\"Categorical accuracy on the test set: {round(binary_acc1 * 100, 2)}%.\")\n",
    "print(f\"Categorical accuracy on the validation set: {round(binary_acc2 * 100, 2)}%.\")"
   ]
  },
  {
   "cell_type": "markdown",
   "id": "16f447f1",
   "metadata": {},
   "source": [
    "# Save Model and Text Vectorizer:"
   ]
  },
  {
   "cell_type": "code",
   "execution_count": 97,
   "id": "4434b752",
   "metadata": {},
   "outputs": [],
   "source": [
    "# Save the model\n",
    "model1.save(\"models/model.h5\")\n",
    "\n",
    "# Save the configuration of the text vectorizer\n",
    "saved_text_vectorizer_config = text_vectorizer.get_config()\n",
    "with open(\"models/text_vectorizer_config.pkl\", \"wb\") as f:\n",
    "    pickle.dump(saved_text_vectorizer_config, f)\n",
    "\n",
    "\n",
    "# Save the vocabulary\n",
    "with open(\"models/vocab.pkl\", \"wb\") as f:\n",
    "    pickle.dump(vocab, f)"
   ]
  },
  {
   "cell_type": "markdown",
   "id": "fceee66a",
   "metadata": {},
   "source": [
    "# Load Model and Text Vectorizer:"
   ]
  },
  {
   "cell_type": "code",
   "execution_count": 108,
   "id": "34e7d7f6",
   "metadata": {},
   "outputs": [],
   "source": [
    "from tensorflow import keras\n",
    "import pickle\n",
    "\n",
    "# Load the model\n",
    "loaded_model = keras.models.load_model(\"models/model.h5\")\n",
    "\n",
    "from tensorflow.keras.layers import TextVectorization\n",
    "\n",
    "# Load the configuration of the text vectorizer\n",
    "with open(\"models/text_vectorizer_config.pkl\", \"rb\") as f:\n",
    "    saved_text_vectorizer_config = pickle.load(f)\n",
    "\n",
    "# Create a new TextVectorization layer with the saved configuration\n",
    "loaded_text_vectorizer = TextVectorization.from_config(saved_text_vectorizer_config)\n",
    "\n",
    "# Load the saved weights into the new TextVectorization layer\n",
    "with open(\"models/text_vectorizer_weights.pkl\", \"rb\") as f:\n",
    "    weights = pickle.load(f)\n",
    "    loaded_text_vectorizer.set_weights(weights)\n"
   ]
  },
  {
   "cell_type": "code",
   "execution_count": 109,
   "id": "27e3fe39",
   "metadata": {},
   "outputs": [],
   "source": [
    "# Load the vocabulary\n",
    "with open(\"models/vocab.pkl\", \"rb\") as f:\n",
    "    loaded_vocab = pickle.load(f)\n"
   ]
  },
  {
   "cell_type": "markdown",
   "id": "506f9a17",
   "metadata": {},
   "source": [
    "# Model Prediction"
   ]
  },
  {
   "cell_type": "code",
   "execution_count": 110,
   "id": "8e2985e7",
   "metadata": {},
   "outputs": [],
   "source": [
    "def invert_multi_hot(encoded_labels):\n",
    "    \"\"\"Reverse a single multi-hot encoded label to a tuple of vocab terms.\"\"\"\n",
    "    hot_indices = np.argwhere(encoded_labels == 1.0)[..., 0]\n",
    "    return np.take(loaded_vocab, hot_indices)"
   ]
  },
  {
   "cell_type": "code",
   "execution_count": 111,
   "id": "76f5b374",
   "metadata": {},
   "outputs": [],
   "source": [
    "def predict_category(abstract, model, vectorizer, label_lookup):\n",
    "    # Preprocess the abstract using the loaded text vectorizer\n",
    "    preprocessed_abstract = vectorizer([abstract])\n",
    "\n",
    "    # Make predictions using the loaded model\n",
    "    predictions = model.predict(preprocessed_abstract)\n",
    "\n",
    "    # Convert predictions to human-readable labels\n",
    "    predicted_labels = label_lookup(np.round(predictions).astype(int)[0])\n",
    "\n",
    "    return predicted_labels"
   ]
  },
  {
   "cell_type": "code",
   "execution_count": 112,
   "id": "6f91a6e8",
   "metadata": {},
   "outputs": [
    {
     "name": "stdout",
     "output_type": "stream",
     "text": [
      "1/1 [==============================] - 0s 336ms/step\n",
      "Predicted Categories: ['cs.LG']\n"
     ]
    }
   ],
   "source": [
    "# Example usage\n",
    "new_abstract = \"Graph neural networks (GNNs) have been widely used to learn vector\\nrepresentation of graph-structured data and achieved better task performance\\nthan conventional methods. The foundation of GNNs is the message passing\\nprocedure, which propagates the information in a node to its neighbors. Since\\nthis procedure proceeds one step per layer, the range of the information\\npropagation among nodes is small in the lower layers, and it expands toward the\\nhigher layers. Therefore, a GNN model has to be deep enough to capture global\\nstructural information in a graph. On the other hand, it is known that deep GNN\\nmodels suffer from performance degradation because they lose nodes' local\\ninformation, which would be essential for good model performance, through many\\nmessage passing steps. In this study, we propose multi-level attention pooling\\n(MLAP) for graph-level classification tasks, which can adapt to both local and\\nglobal structural information in a graph. It has an attention pooling layer for\\neach message passing step and computes the final graph representation by\\nunifying the layer-wise graph representations. The MLAP architecture allows\\nmodels to utilize the structural information of graphs with multiple levels of\\nlocalities because it preserves layer-wise information before losing them due\\nto oversmoothing. Results of our experiments show that the MLAP architecture\\nimproves the graph classification performance compared to the baseline\\narchitectures. In addition, analyses on the layer-wise graph representations\\nsuggest that aggregating information from multiple levels of localities indeed\\nhas the potential to improve the discriminability of learned graph\\nrepresentations.\"\n",
    "predicted_categories = predict_category(new_abstract, loaded_model, loaded_text_vectorizer, invert_multi_hot)\n",
    "print(\"Predicted Categories:\", predicted_categories)\n"
   ]
  },
  {
   "cell_type": "code",
   "execution_count": 113,
   "id": "e13ef48a",
   "metadata": {},
   "outputs": [
    {
     "name": "stdout",
     "output_type": "stream",
     "text": [
      "1/1 [==============================] - 0s 33ms/step\n",
      "Predicted Categories: ['cs.LG' 'stat.ML']\n"
     ]
    }
   ],
   "source": [
    "# Example usage\n",
    "new_abstract = 'Deep networks and decision forests (such as random forests and gradient\\nboosted trees) are the leading machine learning methods for structured and\\ntabular data, respectively. Many papers have empirically compared large numbers\\nof classifiers on one or two different domains (e.g., on 100 different tabular\\ndata settings). However, a careful conceptual and empirical comparison of these\\ntwo strategies using the most contemporary best practices has yet to be\\nperformed. Conceptually, we illustrate that both can be profitably viewed as\\n\"partition and vote\" schemes. Specifically, the representation space that they\\nboth learn is a partitioning of feature space into a union of convex polytopes.\\nFor inference, each decides on the basis of votes from the activated nodes.\\nThis formulation allows for a unified basic understanding of the relationship\\nbetween these methods. Empirically, we compare these two strategies on hundreds\\nof tabular data settings, as well as several vision and auditory settings. Our\\nfocus is on datasets with at most 10,000 samples, which represent a large\\nfraction of scientific and biomedical datasets. In general, we found forests to\\nexcel at tabular and structured data (vision and audition) with small sample\\nsizes, whereas deep nets performed better on structured data with larger sample\\nsizes. This suggests that further gains in both scenarios may be realized via\\nfurther combining aspects of forests and networks. We will continue revising\\nthis technical report in the coming months with updated results.'\n",
    "predicted_categories = predict_category(new_abstract, loaded_model, loaded_text_vectorizer, invert_multi_hot)\n",
    "print(\"Predicted Categories:\", predicted_categories)"
   ]
  },
  {
   "cell_type": "code",
   "execution_count": 114,
   "id": "77b90c6e",
   "metadata": {},
   "outputs": [],
   "source": [
    "# great resutls..................................."
   ]
  },
  {
   "cell_type": "markdown",
   "id": "b5c90e37",
   "metadata": {},
   "source": [
    "# =======Section 2========"
   ]
  },
  {
   "cell_type": "markdown",
   "id": "cecfe2d1",
   "metadata": {},
   "source": [
    "# 2 Recommendation System"
   ]
  },
  {
   "cell_type": "code",
   "execution_count": 59,
   "id": "08b0ebec",
   "metadata": {},
   "outputs": [
    {
     "data": {
      "text/html": [
       "<div>\n",
       "<style scoped>\n",
       "    .dataframe tbody tr th:only-of-type {\n",
       "        vertical-align: middle;\n",
       "    }\n",
       "\n",
       "    .dataframe tbody tr th {\n",
       "        vertical-align: top;\n",
       "    }\n",
       "\n",
       "    .dataframe thead th {\n",
       "        text-align: right;\n",
       "    }\n",
       "</style>\n",
       "<table border=\"1\" class=\"dataframe\">\n",
       "  <thead>\n",
       "    <tr style=\"text-align: right;\">\n",
       "      <th></th>\n",
       "      <th>titles</th>\n",
       "    </tr>\n",
       "  </thead>\n",
       "  <tbody>\n",
       "    <tr>\n",
       "      <th>0</th>\n",
       "      <td>Multi-Level Attention Pooling for Graph Neural Networks: Unifying Graph Representations with Multiple Localities</td>\n",
       "    </tr>\n",
       "    <tr>\n",
       "      <th>1</th>\n",
       "      <td>Decision Forests vs. Deep Networks: Conceptual Similarities and Empirical Differences at Small Sample Sizes</td>\n",
       "    </tr>\n",
       "    <tr>\n",
       "      <th>2</th>\n",
       "      <td>Power up! Robust Graph Convolutional Network via Graph Powering</td>\n",
       "    </tr>\n",
       "    <tr>\n",
       "      <th>3</th>\n",
       "      <td>Releasing Graph Neural Networks with Differential Privacy Guarantees</td>\n",
       "    </tr>\n",
       "    <tr>\n",
       "      <th>4</th>\n",
       "      <td>Recurrence-Aware Long-Term Cognitive Network for Explainable Pattern Classification</td>\n",
       "    </tr>\n",
       "    <tr>\n",
       "      <th>...</th>\n",
       "      <td>...</td>\n",
       "    </tr>\n",
       "    <tr>\n",
       "      <th>56173</th>\n",
       "      <td>An experimental study of graph-based semi-supervised classification with additional node information</td>\n",
       "    </tr>\n",
       "    <tr>\n",
       "      <th>56175</th>\n",
       "      <td>Bayesian Differential Privacy through Posterior Sampling</td>\n",
       "    </tr>\n",
       "    <tr>\n",
       "      <th>56176</th>\n",
       "      <td>Mining Spatio-temporal Data on Industrialization from Historical Registries</td>\n",
       "    </tr>\n",
       "    <tr>\n",
       "      <th>56177</th>\n",
       "      <td>Wav2Letter: an End-to-End ConvNet-based Speech Recognition System</td>\n",
       "    </tr>\n",
       "    <tr>\n",
       "      <th>56179</th>\n",
       "      <td>Generalized Low Rank Models</td>\n",
       "    </tr>\n",
       "  </tbody>\n",
       "</table>\n",
       "<p>41105 rows × 1 columns</p>\n",
       "</div>"
      ],
      "text/plain": [
       "                                                                                                                 titles\n",
       "0      Multi-Level Attention Pooling for Graph Neural Networks: Unifying Graph Representations with Multiple Localities\n",
       "1           Decision Forests vs. Deep Networks: Conceptual Similarities and Empirical Differences at Small Sample Sizes\n",
       "2                                                       Power up! Robust Graph Convolutional Network via Graph Powering\n",
       "3                                                  Releasing Graph Neural Networks with Differential Privacy Guarantees\n",
       "4                                   Recurrence-Aware Long-Term Cognitive Network for Explainable Pattern Classification\n",
       "...                                                                                                                 ...\n",
       "56173              An experimental study of graph-based semi-supervised classification with additional node information\n",
       "56175                                                          Bayesian Differential Privacy through Posterior Sampling\n",
       "56176                                       Mining Spatio-temporal Data on Industrialization from Historical Registries\n",
       "56177                                                 Wav2Letter: an End-to-End ConvNet-based Speech Recognition System\n",
       "56179                                                                                       Generalized Low Rank Models\n",
       "\n",
       "[41105 rows x 1 columns]"
      ]
     },
     "execution_count": 59,
     "metadata": {},
     "output_type": "execute_result"
    }
   ],
   "source": [
    "# Check if the columns exist before dropping\n",
    "if 'terms' in arxiv_data.columns and 'abstracts' in arxiv_data.columns:\n",
    "    arxiv_data.drop(columns=['terms', 'abstracts'], inplace=True)\n",
    "else:\n",
    "    print(\"Columns 'terms' and/or 'abstracts' are not present in the DataFrame.\")\n",
    "\n",
    "arxiv_data"
   ]
  },
  {
   "cell_type": "code",
   "execution_count": 60,
   "id": "c94e6f2f",
   "metadata": {},
   "outputs": [],
   "source": [
    "arxiv_data.drop_duplicates(inplace= True)\n",
    "arxiv_data.reset_index(drop= True,inplace = True)"
   ]
  },
  {
   "cell_type": "code",
   "execution_count": 61,
   "id": "8ca5e456",
   "metadata": {},
   "outputs": [
    {
     "data": {
      "text/html": [
       "<div>\n",
       "<style scoped>\n",
       "    .dataframe tbody tr th:only-of-type {\n",
       "        vertical-align: middle;\n",
       "    }\n",
       "\n",
       "    .dataframe tbody tr th {\n",
       "        vertical-align: top;\n",
       "    }\n",
       "\n",
       "    .dataframe thead th {\n",
       "        text-align: right;\n",
       "    }\n",
       "</style>\n",
       "<table border=\"1\" class=\"dataframe\">\n",
       "  <thead>\n",
       "    <tr style=\"text-align: right;\">\n",
       "      <th></th>\n",
       "      <th>titles</th>\n",
       "    </tr>\n",
       "  </thead>\n",
       "  <tbody>\n",
       "    <tr>\n",
       "      <th>0</th>\n",
       "      <td>Multi-Level Attention Pooling for Graph Neural Networks: Unifying Graph Representations with Multiple Localities</td>\n",
       "    </tr>\n",
       "    <tr>\n",
       "      <th>1</th>\n",
       "      <td>Decision Forests vs. Deep Networks: Conceptual Similarities and Empirical Differences at Small Sample Sizes</td>\n",
       "    </tr>\n",
       "    <tr>\n",
       "      <th>2</th>\n",
       "      <td>Power up! Robust Graph Convolutional Network via Graph Powering</td>\n",
       "    </tr>\n",
       "    <tr>\n",
       "      <th>3</th>\n",
       "      <td>Releasing Graph Neural Networks with Differential Privacy Guarantees</td>\n",
       "    </tr>\n",
       "    <tr>\n",
       "      <th>4</th>\n",
       "      <td>Recurrence-Aware Long-Term Cognitive Network for Explainable Pattern Classification</td>\n",
       "    </tr>\n",
       "    <tr>\n",
       "      <th>...</th>\n",
       "      <td>...</td>\n",
       "    </tr>\n",
       "    <tr>\n",
       "      <th>41100</th>\n",
       "      <td>An experimental study of graph-based semi-supervised classification with additional node information</td>\n",
       "    </tr>\n",
       "    <tr>\n",
       "      <th>41101</th>\n",
       "      <td>Bayesian Differential Privacy through Posterior Sampling</td>\n",
       "    </tr>\n",
       "    <tr>\n",
       "      <th>41102</th>\n",
       "      <td>Mining Spatio-temporal Data on Industrialization from Historical Registries</td>\n",
       "    </tr>\n",
       "    <tr>\n",
       "      <th>41103</th>\n",
       "      <td>Wav2Letter: an End-to-End ConvNet-based Speech Recognition System</td>\n",
       "    </tr>\n",
       "    <tr>\n",
       "      <th>41104</th>\n",
       "      <td>Generalized Low Rank Models</td>\n",
       "    </tr>\n",
       "  </tbody>\n",
       "</table>\n",
       "<p>41105 rows × 1 columns</p>\n",
       "</div>"
      ],
      "text/plain": [
       "                                                                                                                 titles\n",
       "0      Multi-Level Attention Pooling for Graph Neural Networks: Unifying Graph Representations with Multiple Localities\n",
       "1           Decision Forests vs. Deep Networks: Conceptual Similarities and Empirical Differences at Small Sample Sizes\n",
       "2                                                       Power up! Robust Graph Convolutional Network via Graph Powering\n",
       "3                                                  Releasing Graph Neural Networks with Differential Privacy Guarantees\n",
       "4                                   Recurrence-Aware Long-Term Cognitive Network for Explainable Pattern Classification\n",
       "...                                                                                                                 ...\n",
       "41100              An experimental study of graph-based semi-supervised classification with additional node information\n",
       "41101                                                          Bayesian Differential Privacy through Posterior Sampling\n",
       "41102                                       Mining Spatio-temporal Data on Industrialization from Historical Registries\n",
       "41103                                                 Wav2Letter: an End-to-End ConvNet-based Speech Recognition System\n",
       "41104                                                                                       Generalized Low Rank Models\n",
       "\n",
       "[41105 rows x 1 columns]"
      ]
     },
     "execution_count": 61,
     "metadata": {},
     "output_type": "execute_result"
    }
   ],
   "source": [
    "pd.set_option('display.max_colwidth', None)\n",
    "arxiv_data"
   ]
  },
  {
   "cell_type": "markdown",
   "id": "95b71915",
   "metadata": {},
   "source": [
    "# Sentence Transformers"
   ]
  },
  {
   "cell_type": "code",
   "execution_count": 62,
   "id": "5712474f",
   "metadata": {},
   "outputs": [],
   "source": [
    "# !pip install -U -q sentence-transformers"
   ]
  },
  {
   "cell_type": "code",
   "execution_count": 63,
   "id": "514a5734",
   "metadata": {},
   "outputs": [],
   "source": [
    "# This imports the SentenceTransformer class from the Sentence Transformers library.\n",
    "from sentence_transformers import SentenceTransformer, util\n"
   ]
  },
  {
   "cell_type": "code",
   "execution_count": 64,
   "id": "e1337dd1",
   "metadata": {},
   "outputs": [],
   "source": [
    "model = SentenceTransformer('all-MiniLM-L6-v2')\n"
   ]
  },
  {
   "cell_type": "code",
   "execution_count": 65,
   "id": "e3c2fb0e",
   "metadata": {},
   "outputs": [],
   "source": [
    "sentences = arxiv_data['titles']"
   ]
  },
  {
   "cell_type": "code",
   "execution_count": 66,
   "id": "51bd8478",
   "metadata": {},
   "outputs": [],
   "source": [
    "embeddings = model.encode(sentences)"
   ]
  },
  {
   "cell_type": "code",
   "execution_count": 67,
   "id": "3305c911",
   "metadata": {},
   "outputs": [
    {
     "data": {
      "text/plain": [
       "(41105, 384)"
      ]
     },
     "execution_count": 67,
     "metadata": {},
     "output_type": "execute_result"
    }
   ],
   "source": [
    "embeddings.shape"
   ]
  },
  {
   "cell_type": "code",
   "execution_count": 68,
   "id": "c502c4e0",
   "metadata": {},
   "outputs": [
    {
     "data": {
      "text/plain": [
       "array([[ 0.06643401, -0.04954599,  0.06388084, ...,  0.00106301,\n",
       "        -0.12156387, -0.06962775],\n",
       "       [ 0.09212255, -0.07606939,  0.06572868, ..., -0.08565173,\n",
       "        -0.09266546,  0.00725291],\n",
       "       [-0.08162684,  0.02428939,  0.01888745, ...,  0.0080616 ,\n",
       "        -0.05129535, -0.05873999],\n",
       "       ...,\n",
       "       [ 0.01227974, -0.08568835, -0.02782772, ..., -0.0525797 ,\n",
       "        -0.1080669 ,  0.0784331 ],\n",
       "       [-0.07258197, -0.12690917, -0.00535544, ...,  0.03597707,\n",
       "        -0.03986151, -0.05971035],\n",
       "       [ 0.00768869, -0.10124185,  0.08909851, ..., -0.08199873,\n",
       "        -0.05649745,  0.09007051]], dtype=float32)"
      ]
     },
     "execution_count": 68,
     "metadata": {},
     "output_type": "execute_result"
    }
   ],
   "source": [
    "embeddings"
   ]
  },
  {
   "cell_type": "markdown",
   "id": "db125c7d",
   "metadata": {},
   "source": [
    "# Why select all-MiniLM-L6-v2?\n",
    "\n",
    "All-round model tuned for many use-cases. Trained on a large and diverse dataset of over 1 billion training pairs. Source\n",
    "\n",
    "Its small in size 80 MB with good performance."
   ]
  },
  {
   "cell_type": "markdown",
   "id": "355ffc70",
   "metadata": {},
   "source": [
    "# Print the embeddings"
   ]
  },
  {
   "cell_type": "code",
   "execution_count": 69,
   "id": "0af0618d",
   "metadata": {},
   "outputs": [
    {
     "name": "stdout",
     "output_type": "stream",
     "text": [
      "Sentence: Multi-Level Attention Pooling for Graph Neural Networks: Unifying Graph Representations with Multiple Localities\n",
      "Embedding length: 384\n",
      "\n",
      "Sentence: Decision Forests vs. Deep Networks: Conceptual Similarities and Empirical Differences at Small Sample Sizes\n",
      "Embedding length: 384\n",
      "\n",
      "Sentence: Power up! Robust Graph Convolutional Network via Graph Powering\n",
      "Embedding length: 384\n",
      "\n",
      "Sentence: Releasing Graph Neural Networks with Differential Privacy Guarantees\n",
      "Embedding length: 384\n",
      "\n",
      "Sentence: Recurrence-Aware Long-Term Cognitive Network for Explainable Pattern Classification\n",
      "Embedding length: 384\n",
      "\n",
      "Sentence: Lifelong Graph Learning\n",
      "Embedding length: 384\n",
      "\n"
     ]
    }
   ],
   "source": [
    "c = 0\n",
    "#This loop iterates over pairs of sentences and their corresponding embeddings. \n",
    "#zip is used to iterate over both lists simultaneously.\n",
    "for sentence, embedding in zip(sentences, embeddings):\n",
    "    print(\"Sentence:\", sentence)\n",
    "    print(\"Embedding length:\", len(embedding)) # list of floats\n",
    "    print(\"\")\n",
    "    # Breaks out of the loop after printing information for the first 5 sentences.\n",
    "    if c >=5:\n",
    "        break\n",
    "    c +=1 "
   ]
  },
  {
   "cell_type": "markdown",
   "id": "f5cdb484",
   "metadata": {},
   "source": [
    "# Save files"
   ]
  },
  {
   "cell_type": "code",
   "execution_count": 70,
   "id": "a802f9f1",
   "metadata": {},
   "outputs": [],
   "source": [
    "import pickle\n",
    "# Saving sentences and corresponding embeddings\n",
    "with open('/Users/shree/research paper/Research-Papers-Recommendation-System-and-Subject-Area-Prediction-Using-Deep-Learning-and-LLMS/embeddings.pkl', 'wb') as f:\n",
    "    pickle.dump(embeddings, f)\n",
    "\n",
    "with open('/Users/shree/research paper/Research-Papers-Recommendation-System-and-Subject-Area-Prediction-Using-Deep-Learning-and-LLMS/sentences.pkl', 'wb') as f:\n",
    "    pickle.dump(sentences, f)\n",
    "    \n",
    "with open('/Users/shree/research paper/Research-Papers-Recommendation-System-and-Subject-Area-Prediction-Using-Deep-Learning-and-LLMS/rec_model.pkl', 'wb') as f:\n",
    "    pickle.dump(model, f)"
   ]
  },
  {
   "cell_type": "markdown",
   "id": "1dcea57f",
   "metadata": {},
   "source": [
    "# Recommendation for similar papers"
   ]
  },
  {
   "cell_type": "code",
   "execution_count": 71,
   "id": "dcb1a450",
   "metadata": {},
   "outputs": [],
   "source": [
    "# load save files\n",
    "embeddings = pickle.load(open('models/embeddings.pkl','rb'))\n",
    "sentences = pickle.load(open('models/sentences.pkl','rb'))\n",
    "rec_model = pickle.load(open('models/rec_model.pkl','rb'))"
   ]
  },
  {
   "cell_type": "code",
   "execution_count": 72,
   "id": "84ffe218",
   "metadata": {},
   "outputs": [],
   "source": [
    "import torch\n",
    "\n",
    "def recommendation(input_paper):\n",
    "    # Calculate cosine similarity scores between the embeddings of input_paper and all papers in the dataset.\n",
    "    cosine_scores = util.cos_sim(embeddings, rec_model.encode(input_paper))\n",
    "    \n",
    "    # Get the indices of the top-k most similar papers based on cosine similarity.\n",
    "    top_similar_papers = torch.topk(cosine_scores, dim=0, k=5, sorted=True)\n",
    "                                 \n",
    "    # Retrieve the titles of the top similar papers.\n",
    "    papers_list = []\n",
    "    for i in top_similar_papers.indices:\n",
    "        papers_list.append(sentences[i.item()])\n",
    "    \n",
    "    return papers_list\n"
   ]
  },
  {
   "cell_type": "code",
   "execution_count": 73,
   "id": "12c90388",
   "metadata": {},
   "outputs": [
    {
     "name": "stdout",
     "output_type": "stream",
     "text": [
      "We recommend to read this paper............\n",
      "=============================================\n",
      "Persuasive Faces: Generating Faces in Advertisements\n",
      "Copy this Sentence\n",
      "Area Attention\n",
      "\"You eat with your eyes first\": Optimizing Yelp Image Advertising\n",
      "AiAds: Automated and Intelligent Advertising System for Sponsored Search\n"
     ]
    }
   ],
   "source": [
    "# exampel usage 1: (use this paper as input (Attention is All you Need))\n",
    "input_paper = input(\"Enter the title of any paper you like\")\n",
    "recommend_papers = recommendation(input_paper)\n",
    "\n",
    "\n",
    "print(\"We recommend to read this paper............\")\n",
    "print(\"=============================================\")\n",
    "for paper in recommend_papers:\n",
    "    print(paper)"
   ]
  },
  {
   "cell_type": "code",
   "execution_count": 74,
   "id": "92d70ed0",
   "metadata": {},
   "outputs": [
    {
     "name": "stdout",
     "output_type": "stream",
     "text": [
      "We recommend to read this paper............\n",
      "=============================================\n",
      "Persuasive Faces: Generating Faces in Advertisements\n",
      "Copy this Sentence\n",
      "Area Attention\n",
      "\"You eat with your eyes first\": Optimizing Yelp Image Advertising\n",
      "AiAds: Automated and Intelligent Advertising System for Sponsored Search\n"
     ]
    }
   ],
   "source": [
    "# exampel usage 2: (use this paper as input (BERT: Pre-training of Deep Bidirectional Transformers for Language Understanding))\n",
    "input_paper = input(\"Enter the title of any paper you like\")\n",
    "recommend_papers = recommendation(input_paper)\n",
    "\n",
    "\n",
    "print(\"We recommend to read this paper............\")\n",
    "print(\"=============================================\")\n",
    "for paper in recommend_papers:\n",
    "    print(paper)"
   ]
  },
  {
   "cell_type": "code",
   "execution_count": 75,
   "id": "fe398bb9",
   "metadata": {},
   "outputs": [
    {
     "name": "stdout",
     "output_type": "stream",
     "text": [
      "We recommend to read this paper............\n",
      "=============================================\n",
      "Persuasive Faces: Generating Faces in Advertisements\n",
      "Copy this Sentence\n",
      "Area Attention\n",
      "\"You eat with your eyes first\": Optimizing Yelp Image Advertising\n",
      "AiAds: Automated and Intelligent Advertising System for Sponsored Search\n"
     ]
    }
   ],
   "source": [
    "# exampel usage 3: (use this paper as input (Review of deep learning: concepts, CNN architectures, challenges, applications, future directions))\n",
    "input_paper = input(\"Enter the title of any paper you like\")\n",
    "recommend_papers = recommendation(input_paper)\n",
    "\n",
    "\n",
    "print(\"We recommend to read this paper............\")\n",
    "print(\"=============================================\")\n",
    "for paper in recommend_papers:\n",
    "    print(paper)"
   ]
  },
  {
   "cell_type": "code",
   "execution_count": 76,
   "id": "026a1eb1",
   "metadata": {},
   "outputs": [
    {
     "name": "stdout",
     "output_type": "stream",
     "text": [
      "2.7.0\n",
      "4.1.0\n",
      "2.15.0\n"
     ]
    }
   ],
   "source": [
    "# install this versions\n",
    "import sentence_transformers\n",
    "import tensorflow\n",
    "import torch\n",
    "print(torch.__version__)\n",
    "print(sentence_transformers.__version__)\n",
    "print(tensorflow.__version__)"
   ]
  },
  {
   "cell_type": "code",
   "execution_count": null,
   "id": "813491da",
   "metadata": {},
   "outputs": [],
   "source": []
  }
 ],
 "metadata": {
  "kernelspec": {
   "display_name": "Python 3 (ipykernel)",
   "language": "python",
   "name": "python3"
  },
  "language_info": {
   "codemirror_mode": {
    "name": "ipython",
    "version": 3
   },
   "file_extension": ".py",
   "mimetype": "text/x-python",
   "name": "python",
   "nbconvert_exporter": "python",
   "pygments_lexer": "ipython3",
   "version": "3.10.11"
  }
 },
 "nbformat": 4,
 "nbformat_minor": 5
}
